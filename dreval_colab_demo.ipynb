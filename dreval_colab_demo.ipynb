{
 "cells": [
  {
   "cell_type": "markdown",
   "metadata": {
    "id": "QfvWIKUf0V5V"
   },
   "source": [
    "# DrEvalPy demo\n",
    "You can execute the DrEval Framework either via Nextflow as nf-core pipeline or as Python standalone."
   ]
  },
  {
   "cell_type": "code",
   "execution_count": 1,
   "metadata": {},
   "outputs": [
    {
     "name": "stdout",
     "output_type": "stream",
     "text": [
      "Requirement already satisfied: drevalpy in /Users/piversen/miniforge3/envs/drp2/lib/python3.13/site-packages (1.3.4)\n",
      "Requirement already satisfied: curve-curator in /Users/piversen/miniforge3/envs/drp2/lib/python3.13/site-packages (from drevalpy) (0.6.0)\n",
      "Requirement already satisfied: flaky in /Users/piversen/miniforge3/envs/drp2/lib/python3.13/site-packages (from drevalpy) (3.8.1)\n",
      "Requirement already satisfied: importlib-resources in /Users/piversen/miniforge3/envs/drp2/lib/python3.13/site-packages (from drevalpy) (6.5.2)\n",
      "Requirement already satisfied: matplotlib in /Users/piversen/miniforge3/envs/drp2/lib/python3.13/site-packages (from drevalpy) (3.10.3)\n",
      "Requirement already satisfied: networkx in /Users/piversen/miniforge3/envs/drp2/lib/python3.13/site-packages (from drevalpy) (3.5)\n",
      "Requirement already satisfied: numpy>=1.20 in /Users/piversen/miniforge3/envs/drp2/lib/python3.13/site-packages (from drevalpy) (2.3.0)\n",
      "Requirement already satisfied: pandas in /Users/piversen/miniforge3/envs/drp2/lib/python3.13/site-packages (from drevalpy) (2.3.0)\n",
      "Requirement already satisfied: plotly in /Users/piversen/miniforge3/envs/drp2/lib/python3.13/site-packages (from drevalpy) (6.1.2)\n",
      "Requirement already satisfied: poetry<3.0.0,>=2.0.1 in /Users/piversen/miniforge3/envs/drp2/lib/python3.13/site-packages (from drevalpy) (2.1.3)\n",
      "Requirement already satisfied: pytorch-lightning>=2.5 in /Users/piversen/miniforge3/envs/drp2/lib/python3.13/site-packages (from drevalpy) (2.5.2)\n",
      "Requirement already satisfied: pyyaml in /Users/piversen/miniforge3/envs/drp2/lib/python3.13/site-packages (from drevalpy) (6.0.2)\n",
      "Requirement already satisfied: requests in /Users/piversen/miniforge3/envs/drp2/lib/python3.13/site-packages (from drevalpy) (2.32.4)\n",
      "Requirement already satisfied: scikit-learn>=1.4 in /Users/piversen/miniforge3/envs/drp2/lib/python3.13/site-packages (from drevalpy) (1.7.0)\n",
      "Requirement already satisfied: scikit-posthocs in /Users/piversen/miniforge3/envs/drp2/lib/python3.13/site-packages (from drevalpy) (0.11.4)\n",
      "Requirement already satisfied: scipy<1.16 in /Users/piversen/miniforge3/envs/drp2/lib/python3.13/site-packages (from drevalpy) (1.15.3)\n",
      "Requirement already satisfied: toml<0.11.0,>=0.10.2 in /Users/piversen/miniforge3/envs/drp2/lib/python3.13/site-packages (from drevalpy) (0.10.2)\n",
      "Requirement already satisfied: torch>=2.1 in /Users/piversen/miniforge3/envs/drp2/lib/python3.13/site-packages (from drevalpy) (2.7.1)\n",
      "Requirement already satisfied: torch-geometric in /Users/piversen/miniforge3/envs/drp2/lib/python3.13/site-packages (from drevalpy) (2.6.1)\n",
      "Requirement already satisfied: build<2.0.0,>=1.2.1 in /Users/piversen/miniforge3/envs/drp2/lib/python3.13/site-packages (from poetry<3.0.0,>=2.0.1->drevalpy) (1.2.2.post1)\n",
      "Requirement already satisfied: cachecontrol<0.15.0,>=0.14.0 in /Users/piversen/miniforge3/envs/drp2/lib/python3.13/site-packages (from cachecontrol[filecache]<0.15.0,>=0.14.0->poetry<3.0.0,>=2.0.1->drevalpy) (0.14.3)\n",
      "Requirement already satisfied: cleo<3.0.0,>=2.1.0 in /Users/piversen/miniforge3/envs/drp2/lib/python3.13/site-packages (from poetry<3.0.0,>=2.0.1->drevalpy) (2.1.0)\n",
      "Requirement already satisfied: dulwich<0.23.0,>=0.22.6 in /Users/piversen/miniforge3/envs/drp2/lib/python3.13/site-packages (from poetry<3.0.0,>=2.0.1->drevalpy) (0.22.8)\n",
      "Requirement already satisfied: fastjsonschema<3.0.0,>=2.18.0 in /Users/piversen/miniforge3/envs/drp2/lib/python3.13/site-packages (from poetry<3.0.0,>=2.0.1->drevalpy) (2.21.1)\n",
      "Requirement already satisfied: findpython<0.7.0,>=0.6.2 in /Users/piversen/miniforge3/envs/drp2/lib/python3.13/site-packages (from poetry<3.0.0,>=2.0.1->drevalpy) (0.6.3)\n",
      "Requirement already satisfied: installer<0.8.0,>=0.7.0 in /Users/piversen/miniforge3/envs/drp2/lib/python3.13/site-packages (from poetry<3.0.0,>=2.0.1->drevalpy) (0.7.0)\n",
      "Requirement already satisfied: keyring<26.0.0,>=25.1.0 in /Users/piversen/miniforge3/envs/drp2/lib/python3.13/site-packages (from poetry<3.0.0,>=2.0.1->drevalpy) (25.6.0)\n",
      "Requirement already satisfied: packaging>=24.0 in /Users/piversen/miniforge3/envs/drp2/lib/python3.13/site-packages (from poetry<3.0.0,>=2.0.1->drevalpy) (25.0)\n",
      "Requirement already satisfied: pbs-installer<2026.0.0,>=2025.1.6 in /Users/piversen/miniforge3/envs/drp2/lib/python3.13/site-packages (from pbs-installer[download,install]<2026.0.0,>=2025.1.6->poetry<3.0.0,>=2.0.1->drevalpy) (2025.6.12)\n",
      "Requirement already satisfied: pkginfo<2.0,>=1.12 in /Users/piversen/miniforge3/envs/drp2/lib/python3.13/site-packages (from poetry<3.0.0,>=2.0.1->drevalpy) (1.12.1.2)\n",
      "Requirement already satisfied: platformdirs<5,>=3.0.0 in /Users/piversen/miniforge3/envs/drp2/lib/python3.13/site-packages (from poetry<3.0.0,>=2.0.1->drevalpy) (4.3.8)\n",
      "Requirement already satisfied: poetry-core==2.1.3 in /Users/piversen/miniforge3/envs/drp2/lib/python3.13/site-packages (from poetry<3.0.0,>=2.0.1->drevalpy) (2.1.3)\n",
      "Requirement already satisfied: pyproject-hooks<2.0.0,>=1.0.0 in /Users/piversen/miniforge3/envs/drp2/lib/python3.13/site-packages (from poetry<3.0.0,>=2.0.1->drevalpy) (1.2.0)\n",
      "Requirement already satisfied: requests-toolbelt<2.0.0,>=1.0.0 in /Users/piversen/miniforge3/envs/drp2/lib/python3.13/site-packages (from poetry<3.0.0,>=2.0.1->drevalpy) (1.0.0)\n",
      "Requirement already satisfied: shellingham<2.0,>=1.5 in /Users/piversen/miniforge3/envs/drp2/lib/python3.13/site-packages (from poetry<3.0.0,>=2.0.1->drevalpy) (1.5.4)\n",
      "Requirement already satisfied: tomlkit<1.0.0,>=0.11.4 in /Users/piversen/miniforge3/envs/drp2/lib/python3.13/site-packages (from poetry<3.0.0,>=2.0.1->drevalpy) (0.13.3)\n",
      "Requirement already satisfied: trove-classifiers>=2022.5.19 in /Users/piversen/miniforge3/envs/drp2/lib/python3.13/site-packages (from poetry<3.0.0,>=2.0.1->drevalpy) (2025.5.9.12)\n",
      "Requirement already satisfied: virtualenv<21.0.0,>=20.26.6 in /Users/piversen/miniforge3/envs/drp2/lib/python3.13/site-packages (from poetry<3.0.0,>=2.0.1->drevalpy) (20.31.2)\n",
      "Requirement already satisfied: xattr<2.0.0,>=1.0.0 in /Users/piversen/miniforge3/envs/drp2/lib/python3.13/site-packages (from poetry<3.0.0,>=2.0.1->drevalpy) (1.1.4)\n",
      "Requirement already satisfied: msgpack<2.0.0,>=0.5.2 in /Users/piversen/miniforge3/envs/drp2/lib/python3.13/site-packages (from cachecontrol<0.15.0,>=0.14.0->cachecontrol[filecache]<0.15.0,>=0.14.0->poetry<3.0.0,>=2.0.1->drevalpy) (1.1.1)\n",
      "Requirement already satisfied: filelock>=3.8.0 in /Users/piversen/miniforge3/envs/drp2/lib/python3.13/site-packages (from cachecontrol[filecache]<0.15.0,>=0.14.0->poetry<3.0.0,>=2.0.1->drevalpy) (3.18.0)\n",
      "Requirement already satisfied: crashtest<0.5.0,>=0.4.1 in /Users/piversen/miniforge3/envs/drp2/lib/python3.13/site-packages (from cleo<3.0.0,>=2.1.0->poetry<3.0.0,>=2.0.1->drevalpy) (0.4.1)\n",
      "Requirement already satisfied: rapidfuzz<4.0.0,>=3.0.0 in /Users/piversen/miniforge3/envs/drp2/lib/python3.13/site-packages (from cleo<3.0.0,>=2.1.0->poetry<3.0.0,>=2.0.1->drevalpy) (3.13.0)\n",
      "Requirement already satisfied: urllib3>=1.25 in /Users/piversen/miniforge3/envs/drp2/lib/python3.13/site-packages (from dulwich<0.23.0,>=0.22.6->poetry<3.0.0,>=2.0.1->drevalpy) (2.5.0)\n",
      "Requirement already satisfied: jaraco.classes in /Users/piversen/miniforge3/envs/drp2/lib/python3.13/site-packages (from keyring<26.0.0,>=25.1.0->poetry<3.0.0,>=2.0.1->drevalpy) (3.4.0)\n",
      "Requirement already satisfied: jaraco.functools in /Users/piversen/miniforge3/envs/drp2/lib/python3.13/site-packages (from keyring<26.0.0,>=25.1.0->poetry<3.0.0,>=2.0.1->drevalpy) (4.2.1)\n",
      "Requirement already satisfied: jaraco.context in /Users/piversen/miniforge3/envs/drp2/lib/python3.13/site-packages (from keyring<26.0.0,>=25.1.0->poetry<3.0.0,>=2.0.1->drevalpy) (6.0.1)\n",
      "Requirement already satisfied: httpx<1,>=0.27.0 in /Users/piversen/miniforge3/envs/drp2/lib/python3.13/site-packages (from pbs-installer[download,install]<2026.0.0,>=2025.1.6->poetry<3.0.0,>=2.0.1->drevalpy) (0.28.1)\n",
      "Requirement already satisfied: zstandard>=0.21.0 in /Users/piversen/miniforge3/envs/drp2/lib/python3.13/site-packages (from pbs-installer[download,install]<2026.0.0,>=2025.1.6->poetry<3.0.0,>=2.0.1->drevalpy) (0.23.0)\n",
      "Requirement already satisfied: anyio in /Users/piversen/miniforge3/envs/drp2/lib/python3.13/site-packages (from httpx<1,>=0.27.0->pbs-installer[download,install]<2026.0.0,>=2025.1.6->poetry<3.0.0,>=2.0.1->drevalpy) (4.9.0)\n",
      "Requirement already satisfied: certifi in /Users/piversen/miniforge3/envs/drp2/lib/python3.13/site-packages (from httpx<1,>=0.27.0->pbs-installer[download,install]<2026.0.0,>=2025.1.6->poetry<3.0.0,>=2.0.1->drevalpy) (2025.6.15)\n",
      "Requirement already satisfied: httpcore==1.* in /Users/piversen/miniforge3/envs/drp2/lib/python3.13/site-packages (from httpx<1,>=0.27.0->pbs-installer[download,install]<2026.0.0,>=2025.1.6->poetry<3.0.0,>=2.0.1->drevalpy) (1.0.9)\n",
      "Requirement already satisfied: idna in /Users/piversen/miniforge3/envs/drp2/lib/python3.13/site-packages (from httpx<1,>=0.27.0->pbs-installer[download,install]<2026.0.0,>=2025.1.6->poetry<3.0.0,>=2.0.1->drevalpy) (3.10)\n",
      "Requirement already satisfied: h11>=0.16 in /Users/piversen/miniforge3/envs/drp2/lib/python3.13/site-packages (from httpcore==1.*->httpx<1,>=0.27.0->pbs-installer[download,install]<2026.0.0,>=2025.1.6->poetry<3.0.0,>=2.0.1->drevalpy) (0.16.0)\n",
      "Requirement already satisfied: charset_normalizer<4,>=2 in /Users/piversen/miniforge3/envs/drp2/lib/python3.13/site-packages (from requests->drevalpy) (3.4.2)\n",
      "Requirement already satisfied: distlib<1,>=0.3.7 in /Users/piversen/miniforge3/envs/drp2/lib/python3.13/site-packages (from virtualenv<21.0.0,>=20.26.6->poetry<3.0.0,>=2.0.1->drevalpy) (0.3.9)\n",
      "Requirement already satisfied: cffi>=1.16.0 in /Users/piversen/miniforge3/envs/drp2/lib/python3.13/site-packages (from xattr<2.0.0,>=1.0.0->poetry<3.0.0,>=2.0.1->drevalpy) (1.17.1)\n",
      "Requirement already satisfied: pycparser in /Users/piversen/miniforge3/envs/drp2/lib/python3.13/site-packages (from cffi>=1.16.0->xattr<2.0.0,>=1.0.0->poetry<3.0.0,>=2.0.1->drevalpy) (2.22)\n",
      "Requirement already satisfied: tqdm>=4.57.0 in /Users/piversen/miniforge3/envs/drp2/lib/python3.13/site-packages (from pytorch-lightning>=2.5->drevalpy) (4.67.1)\n",
      "Requirement already satisfied: fsspec>=2022.5.0 in /Users/piversen/miniforge3/envs/drp2/lib/python3.13/site-packages (from fsspec[http]>=2022.5.0->pytorch-lightning>=2.5->drevalpy) (2025.5.1)\n",
      "Requirement already satisfied: torchmetrics>=0.7.0 in /Users/piversen/miniforge3/envs/drp2/lib/python3.13/site-packages (from pytorch-lightning>=2.5->drevalpy) (1.7.3)\n",
      "Requirement already satisfied: typing-extensions>=4.4.0 in /Users/piversen/miniforge3/envs/drp2/lib/python3.13/site-packages (from pytorch-lightning>=2.5->drevalpy) (4.14.0)\n",
      "Requirement already satisfied: lightning-utilities>=0.10.0 in /Users/piversen/miniforge3/envs/drp2/lib/python3.13/site-packages (from pytorch-lightning>=2.5->drevalpy) (0.14.3)\n",
      "Requirement already satisfied: aiohttp!=4.0.0a0,!=4.0.0a1 in /Users/piversen/miniforge3/envs/drp2/lib/python3.13/site-packages (from fsspec[http]>=2022.5.0->pytorch-lightning>=2.5->drevalpy) (3.12.13)\n",
      "Requirement already satisfied: aiohappyeyeballs>=2.5.0 in /Users/piversen/miniforge3/envs/drp2/lib/python3.13/site-packages (from aiohttp!=4.0.0a0,!=4.0.0a1->fsspec[http]>=2022.5.0->pytorch-lightning>=2.5->drevalpy) (2.6.1)\n",
      "Requirement already satisfied: aiosignal>=1.1.2 in /Users/piversen/miniforge3/envs/drp2/lib/python3.13/site-packages (from aiohttp!=4.0.0a0,!=4.0.0a1->fsspec[http]>=2022.5.0->pytorch-lightning>=2.5->drevalpy) (1.3.2)\n",
      "Requirement already satisfied: attrs>=17.3.0 in /Users/piversen/miniforge3/envs/drp2/lib/python3.13/site-packages (from aiohttp!=4.0.0a0,!=4.0.0a1->fsspec[http]>=2022.5.0->pytorch-lightning>=2.5->drevalpy) (25.3.0)\n",
      "Requirement already satisfied: frozenlist>=1.1.1 in /Users/piversen/miniforge3/envs/drp2/lib/python3.13/site-packages (from aiohttp!=4.0.0a0,!=4.0.0a1->fsspec[http]>=2022.5.0->pytorch-lightning>=2.5->drevalpy) (1.7.0)\n",
      "Requirement already satisfied: multidict<7.0,>=4.5 in /Users/piversen/miniforge3/envs/drp2/lib/python3.13/site-packages (from aiohttp!=4.0.0a0,!=4.0.0a1->fsspec[http]>=2022.5.0->pytorch-lightning>=2.5->drevalpy) (6.5.0)\n",
      "Requirement already satisfied: propcache>=0.2.0 in /Users/piversen/miniforge3/envs/drp2/lib/python3.13/site-packages (from aiohttp!=4.0.0a0,!=4.0.0a1->fsspec[http]>=2022.5.0->pytorch-lightning>=2.5->drevalpy) (0.3.2)\n",
      "Requirement already satisfied: yarl<2.0,>=1.17.0 in /Users/piversen/miniforge3/envs/drp2/lib/python3.13/site-packages (from aiohttp!=4.0.0a0,!=4.0.0a1->fsspec[http]>=2022.5.0->pytorch-lightning>=2.5->drevalpy) (1.20.1)\n",
      "Requirement already satisfied: setuptools in /Users/piversen/miniforge3/envs/drp2/lib/python3.13/site-packages (from lightning-utilities>=0.10.0->pytorch-lightning>=2.5->drevalpy) (80.9.0)\n",
      "Requirement already satisfied: joblib>=1.2.0 in /Users/piversen/miniforge3/envs/drp2/lib/python3.13/site-packages (from scikit-learn>=1.4->drevalpy) (1.5.1)\n",
      "Requirement already satisfied: threadpoolctl>=3.1.0 in /Users/piversen/miniforge3/envs/drp2/lib/python3.13/site-packages (from scikit-learn>=1.4->drevalpy) (3.6.0)\n",
      "Requirement already satisfied: sympy>=1.13.3 in /Users/piversen/miniforge3/envs/drp2/lib/python3.13/site-packages (from torch>=2.1->drevalpy) (1.14.0)\n",
      "Requirement already satisfied: jinja2 in /Users/piversen/miniforge3/envs/drp2/lib/python3.13/site-packages (from torch>=2.1->drevalpy) (3.1.6)\n",
      "Requirement already satisfied: mpmath<1.4,>=1.1.0 in /Users/piversen/miniforge3/envs/drp2/lib/python3.13/site-packages (from sympy>=1.13.3->torch>=2.1->drevalpy) (1.3.0)\n",
      "Requirement already satisfied: sniffio>=1.1 in /Users/piversen/miniforge3/envs/drp2/lib/python3.13/site-packages (from anyio->httpx<1,>=0.27.0->pbs-installer[download,install]<2026.0.0,>=2025.1.6->poetry<3.0.0,>=2.0.1->drevalpy) (1.3.1)\n",
      "Requirement already satisfied: bokeh<3.8.0,>=3.4.0 in /Users/piversen/miniforge3/envs/drp2/lib/python3.13/site-packages (from curve-curator->drevalpy) (3.7.3)\n",
      "Requirement already satisfied: pytest<8.0.0,>=7.4.3 in /Users/piversen/miniforge3/envs/drp2/lib/python3.13/site-packages (from curve-curator->drevalpy) (7.4.4)\n",
      "Requirement already satisfied: statsmodels<0.15.0,>=0.14.0 in /Users/piversen/miniforge3/envs/drp2/lib/python3.13/site-packages (from curve-curator->drevalpy) (0.14.4)\n",
      "Requirement already satisfied: contourpy>=1.2 in /Users/piversen/miniforge3/envs/drp2/lib/python3.13/site-packages (from bokeh<3.8.0,>=3.4.0->curve-curator->drevalpy) (1.3.2)\n",
      "Requirement already satisfied: narwhals>=1.13 in /Users/piversen/miniforge3/envs/drp2/lib/python3.13/site-packages (from bokeh<3.8.0,>=3.4.0->curve-curator->drevalpy) (1.43.1)\n",
      "Requirement already satisfied: pillow>=7.1.0 in /Users/piversen/miniforge3/envs/drp2/lib/python3.13/site-packages (from bokeh<3.8.0,>=3.4.0->curve-curator->drevalpy) (11.2.1)\n",
      "Requirement already satisfied: tornado>=6.2 in /Users/piversen/miniforge3/envs/drp2/lib/python3.13/site-packages (from bokeh<3.8.0,>=3.4.0->curve-curator->drevalpy) (6.5.1)\n",
      "Requirement already satisfied: xyzservices>=2021.09.1 in /Users/piversen/miniforge3/envs/drp2/lib/python3.13/site-packages (from bokeh<3.8.0,>=3.4.0->curve-curator->drevalpy) (2025.4.0)\n",
      "Requirement already satisfied: python-dateutil>=2.8.2 in /Users/piversen/miniforge3/envs/drp2/lib/python3.13/site-packages (from pandas->drevalpy) (2.9.0.post0)\n",
      "Requirement already satisfied: pytz>=2020.1 in /Users/piversen/miniforge3/envs/drp2/lib/python3.13/site-packages (from pandas->drevalpy) (2025.2)\n",
      "Requirement already satisfied: tzdata>=2022.7 in /Users/piversen/miniforge3/envs/drp2/lib/python3.13/site-packages (from pandas->drevalpy) (2025.2)\n",
      "Requirement already satisfied: iniconfig in /Users/piversen/miniforge3/envs/drp2/lib/python3.13/site-packages (from pytest<8.0.0,>=7.4.3->curve-curator->drevalpy) (2.1.0)\n",
      "Requirement already satisfied: pluggy<2.0,>=0.12 in /Users/piversen/miniforge3/envs/drp2/lib/python3.13/site-packages (from pytest<8.0.0,>=7.4.3->curve-curator->drevalpy) (1.6.0)\n",
      "Requirement already satisfied: patsy>=0.5.6 in /Users/piversen/miniforge3/envs/drp2/lib/python3.13/site-packages (from statsmodels<0.15.0,>=0.14.0->curve-curator->drevalpy) (1.0.1)\n",
      "Requirement already satisfied: MarkupSafe>=2.0 in /Users/piversen/miniforge3/envs/drp2/lib/python3.13/site-packages (from jinja2->torch>=2.1->drevalpy) (3.0.2)\n",
      "Requirement already satisfied: six>=1.5 in /Users/piversen/miniforge3/envs/drp2/lib/python3.13/site-packages (from python-dateutil>=2.8.2->pandas->drevalpy) (1.17.0)\n",
      "Requirement already satisfied: more-itertools in /Users/piversen/miniforge3/envs/drp2/lib/python3.13/site-packages (from jaraco.classes->keyring<26.0.0,>=25.1.0->poetry<3.0.0,>=2.0.1->drevalpy) (10.7.0)\n",
      "Requirement already satisfied: cycler>=0.10 in /Users/piversen/miniforge3/envs/drp2/lib/python3.13/site-packages (from matplotlib->drevalpy) (0.12.1)\n",
      "Requirement already satisfied: fonttools>=4.22.0 in /Users/piversen/miniforge3/envs/drp2/lib/python3.13/site-packages (from matplotlib->drevalpy) (4.58.4)\n",
      "Requirement already satisfied: kiwisolver>=1.3.1 in /Users/piversen/miniforge3/envs/drp2/lib/python3.13/site-packages (from matplotlib->drevalpy) (1.4.8)\n",
      "Requirement already satisfied: pyparsing>=2.3.1 in /Users/piversen/miniforge3/envs/drp2/lib/python3.13/site-packages (from matplotlib->drevalpy) (3.2.3)\n",
      "Requirement already satisfied: seaborn in /Users/piversen/miniforge3/envs/drp2/lib/python3.13/site-packages (from scikit-posthocs->drevalpy) (0.13.2)\n",
      "Requirement already satisfied: psutil>=5.8.0 in /Users/piversen/miniforge3/envs/drp2/lib/python3.13/site-packages (from torch-geometric->drevalpy) (7.0.0)\n"
     ]
    }
   ],
   "source": [
    "!pip install drevalpy"
   ]
  },
  {
   "cell_type": "markdown",
   "metadata": {},
   "source": [
    "First let us see which dataset and models are already implemented in drevalpy.\n",
    "You can test your own model on all the datasets and comapre your model to all.the implemented ones:"
   ]
  },
  {
   "cell_type": "code",
   "execution_count": 2,
   "metadata": {},
   "outputs": [
    {
     "name": "stdout",
     "output_type": "stream",
     "text": [
      "Models: ['NaivePredictor', 'NaiveDrugMeanPredictor', 'NaiveCellLineMeanPredictor', 'NaiveMeanEffectsPredictor', 'NaiveTissueMeanPredictor', 'ElasticNet', 'RandomForest', 'SVR', 'SimpleNeuralNetwork', 'MultiOmicsNeuralNetwork', 'MultiOmicsRandomForest', 'GradientBoosting', 'SRMF', 'DIPK', 'ProteomicsRandomForest', 'ProteomicsElasticNet', 'SingleDrugRandomForest', 'MOLIR', 'SuperFELTR', 'SingleDrugElasticNet', 'SingleDrugProteomicsElasticNet', 'SingleDrugProteomicsRandomForest']\n",
      "Dataset: ['GDSC1', 'GDSC2', 'CCLE', 'TOYv1', 'TOYv2', 'CTRPv1', 'CTRPv2']\n"
     ]
    }
   ],
   "source": [
    "from drevalpy.models import MODEL_FACTORY\n",
    "from drevalpy.datasets import AVAILABLE_DATASETS\n",
    "print(f\"Models: {list(MODEL_FACTORY.keys())}\")\n",
    "print(f\"Dataset: {list(AVAILABLE_DATASETS.keys())}\")\n",
    "\n"
   ]
  },
  {
   "cell_type": "code",
   "execution_count": 3,
   "metadata": {},
   "outputs": [
    {
     "name": "stdout",
     "output_type": "stream",
     "text": [
      "Loading existing cv splits from results/my_first_run/TOYv1/LCO/splits\n",
      "Running ElasticNet\n",
      "- Full Test -\n",
      "################# FOLD 1/2 #################\n",
      "Split 0 already exists. Skipping.\n",
      "################# FOLD 2/2 #################\n",
      "Split 1 already exists. Skipping.\n",
      "Running SimpleNeuralNetwork\n",
      "- Full Test -\n",
      "################# FOLD 1/2 #################\n",
      "Split 0 already exists. Skipping.\n",
      "################# FOLD 2/2 #################\n",
      "Split 1 already exists. Skipping.\n",
      "Running NaivePredictor\n",
      "- Only Baseline Tests -\n",
      "################# FOLD 1/2 #################\n",
      "Split 0 already exists. Skipping.\n",
      "################# FOLD 2/2 #################\n",
      "Split 1 already exists. Skipping.\n",
      "Running NaiveMeanEffectsPredictor\n",
      "- Only Baseline Tests -\n",
      "################# FOLD 1/2 #################\n",
      "Best hyperparameters: {}\n",
      "Training model on full train and validation set to predict test set\n",
      "Loading cell line features ...\n",
      "Loading drug features ...\n",
      "Number of cell lines in features: 90\n",
      "Number of drugs in features: 36\n",
      "Number of cell lines in train dataset: 45\n",
      "Number of drugs in train dataset: 36\n",
      "Training model ...\n",
      "Using temporary directory: /var/folders/62/nxnmxsmj1q15tr6b3ywgks88r_qppl/T/tmptjs0r3pa for model checkpoints\n",
      "################# FOLD 2/2 #################\n",
      "Best hyperparameters: {}\n",
      "Training model on full train and validation set to predict test set\n",
      "Loading cell line features ...\n",
      "Loading drug features ...\n",
      "Number of cell lines in features: 90\n",
      "Number of drugs in features: 36\n",
      "Number of cell lines in train dataset: 45\n",
      "Number of drugs in train dataset: 36\n",
      "Training model ...\n",
      "Using temporary directory: /var/folders/62/nxnmxsmj1q15tr6b3ywgks88r_qppl/T/tmp79ruzx3q for model checkpoints\n",
      "Done!\n"
     ]
    }
   ],
   "source": [
    "# let us first train a model on the toy dataset. It will download the dataset for you.\n",
    "from drevalpy.experiment import drug_response_experiment\n",
    "\n",
    "naive_mean = MODEL_FACTORY[\"NaivePredictor\"] # a naive model that just predicts the training mean\n",
    "enet = MODEL_FACTORY[\"ElasticNet\"] # An Elastic Net based on drug fingerprints and gene expression of 1000 landmark genes\n",
    "simple_nn = MODEL_FACTORY[\"SimpleNeuralNetwork\"] # A neural network based on drug fingerprints and gene expression of 1000 landmark genes\n",
    "\n",
    "toyv2 = AVAILABLE_DATASETS[\"TOYv1\"](path_data=\"data\")\n",
    "\n",
    "drug_response_experiment(\n",
    "            models=[enet, simple_nn],\n",
    "            baselines=[naive_mean], # Ablation studies and robustness tests are not done for baselines.\n",
    "            response_data=toyv2,\n",
    "            n_cv_splits=2, # the number of cross validation splits. Should be higher in practice :)\n",
    "            test_mode=\"LCO\", # LCO means Leave-Cell-Line out. This means that the test and validation splits only contain unseed cell lines.\n",
    "            run_id=\"my_first_run\",\n",
    "            path_data=\"data\", # where the downloaded drug response and feature data is stored\n",
    "            path_out=\"results\", # results are stored here :)\n",
    "            hyperparameter_tuning=False) # if True (default), hyperparameters of the models and baselines are tuned.\n",
    "\n",
    "\n",
    "\n"
   ]
  },
  {
   "cell_type": "code",
   "execution_count": 4,
   "metadata": {},
   "outputs": [
    {
     "data": {
      "text/html": [
       "<div>\n",
       "<style scoped>\n",
       "    .dataframe tbody tr th:only-of-type {\n",
       "        vertical-align: middle;\n",
       "    }\n",
       "\n",
       "    .dataframe tbody tr th {\n",
       "        vertical-align: top;\n",
       "    }\n",
       "\n",
       "    .dataframe thead th {\n",
       "        text-align: right;\n",
       "    }\n",
       "</style>\n",
       "<table border=\"1\" class=\"dataframe\">\n",
       "  <thead>\n",
       "    <tr style=\"text-align: right;\">\n",
       "      <th></th>\n",
       "      <th>cell_line_name</th>\n",
       "      <th>pubchem_id</th>\n",
       "      <th>response</th>\n",
       "      <th>predictions</th>\n",
       "      <th>tissue</th>\n",
       "    </tr>\n",
       "  </thead>\n",
       "  <tbody>\n",
       "    <tr>\n",
       "      <th>0</th>\n",
       "      <td>DU4475</td>\n",
       "      <td>123631</td>\n",
       "      <td>1.639112</td>\n",
       "      <td>1.970176</td>\n",
       "      <td>Breast</td>\n",
       "    </tr>\n",
       "    <tr>\n",
       "      <th>1</th>\n",
       "      <td>SK-MEL-31</td>\n",
       "      <td>123631</td>\n",
       "      <td>3.342029</td>\n",
       "      <td>2.716208</td>\n",
       "      <td>Skin</td>\n",
       "    </tr>\n",
       "    <tr>\n",
       "      <th>2</th>\n",
       "      <td>SK-MEL-24</td>\n",
       "      <td>637858</td>\n",
       "      <td>2.090905</td>\n",
       "      <td>2.687973</td>\n",
       "      <td>Skin</td>\n",
       "    </tr>\n",
       "    <tr>\n",
       "      <th>3</th>\n",
       "      <td>LNCaP clone FGC</td>\n",
       "      <td>11152667</td>\n",
       "      <td>0.359540</td>\n",
       "      <td>-0.575698</td>\n",
       "      <td>Prostate</td>\n",
       "    </tr>\n",
       "    <tr>\n",
       "      <th>4</th>\n",
       "      <td>NCI-H2196</td>\n",
       "      <td>123631</td>\n",
       "      <td>2.912142</td>\n",
       "      <td>2.613078</td>\n",
       "      <td>Lung</td>\n",
       "    </tr>\n",
       "    <tr>\n",
       "      <th>...</th>\n",
       "      <td>...</td>\n",
       "      <td>...</td>\n",
       "      <td>...</td>\n",
       "      <td>...</td>\n",
       "      <td>...</td>\n",
       "    </tr>\n",
       "    <tr>\n",
       "      <th>866</th>\n",
       "      <td>HCC1143</td>\n",
       "      <td>3062316</td>\n",
       "      <td>0.306898</td>\n",
       "      <td>1.833085</td>\n",
       "      <td>Breast</td>\n",
       "    </tr>\n",
       "    <tr>\n",
       "      <th>867</th>\n",
       "      <td>Karpas-299</td>\n",
       "      <td>24821094</td>\n",
       "      <td>3.124550</td>\n",
       "      <td>0.545753</td>\n",
       "      <td>Lymph</td>\n",
       "    </tr>\n",
       "    <tr>\n",
       "      <th>868</th>\n",
       "      <td>Namalwa</td>\n",
       "      <td>24771867</td>\n",
       "      <td>-1.506492</td>\n",
       "      <td>0.918823</td>\n",
       "      <td>Lymph</td>\n",
       "    </tr>\n",
       "    <tr>\n",
       "      <th>869</th>\n",
       "      <td>TE-10</td>\n",
       "      <td>36314</td>\n",
       "      <td>1.665760</td>\n",
       "      <td>-2.290523</td>\n",
       "      <td>Esophagus</td>\n",
       "    </tr>\n",
       "    <tr>\n",
       "      <th>870</th>\n",
       "      <td>Karpas-299</td>\n",
       "      <td>11152667</td>\n",
       "      <td>-4.530059</td>\n",
       "      <td>-0.953943</td>\n",
       "      <td>Lymph</td>\n",
       "    </tr>\n",
       "  </tbody>\n",
       "</table>\n",
       "<p>871 rows × 5 columns</p>\n",
       "</div>"
      ],
      "text/plain": [
       "      cell_line_name pubchem_id  response  predictions     tissue\n",
       "0             DU4475     123631  1.639112     1.970176     Breast\n",
       "1          SK-MEL-31     123631  3.342029     2.716208       Skin\n",
       "2          SK-MEL-24     637858  2.090905     2.687973       Skin\n",
       "3    LNCaP clone FGC   11152667  0.359540    -0.575698   Prostate\n",
       "4          NCI-H2196     123631  2.912142     2.613078       Lung\n",
       "..               ...        ...       ...          ...        ...\n",
       "866          HCC1143    3062316  0.306898     1.833085     Breast\n",
       "867       Karpas-299   24821094  3.124550     0.545753      Lymph\n",
       "868          Namalwa   24771867 -1.506492     0.918823      Lymph\n",
       "869            TE-10      36314  1.665760    -2.290523  Esophagus\n",
       "870       Karpas-299   11152667 -4.530059    -0.953943      Lymph\n",
       "\n",
       "[871 rows x 5 columns]"
      ]
     },
     "execution_count": 4,
     "metadata": {},
     "output_type": "execute_result"
    }
   ],
   "source": [
    "import os\n",
    "import pandas as pd\n",
    "os.listdir(\"results/my_first_run/TOYv1/LCO\")\n",
    "# the results folder holds splits and the results for all models. Lets look at the predictions of the simple neural network for the 0'th fold:\n",
    "pd.read_csv(\"results/my_first_run/TOYv1/LCO/SimpleNeuralNetwork/predictions/predictions_split_0.csv\")\n"
   ]
  },
  {
   "cell_type": "code",
   "execution_count": 5,
   "metadata": {},
   "outputs": [
    {
     "name": "stdout",
     "output_type": "stream",
     "text": [
      "Generating result tables ...\n",
      "Evaluating file: \"TOYv1/LCO/ElasticNet/predictions/predictions_split_0.csv\" ...\n",
      "Parsing file: /Users/piversen/Projects/munich/drevalpy/results/my_first_run/TOYv1/LCO/ElasticNet/predictions/predictions_split_0.csv\n",
      "Calculating cell_line-wise evaluation measures …\n",
      "Evaluating file: \"TOYv1/LCO/ElasticNet/predictions/predictions_split_1.csv\" ...\n",
      "Parsing file: /Users/piversen/Projects/munich/drevalpy/results/my_first_run/TOYv1/LCO/ElasticNet/predictions/predictions_split_1.csv\n",
      "Calculating cell_line-wise evaluation measures …\n",
      "Evaluating file: \"TOYv1/LCO/NaivePredictor/predictions/predictions_split_0.csv\" ...\n",
      "Parsing file: /Users/piversen/Projects/munich/drevalpy/results/my_first_run/TOYv1/LCO/NaivePredictor/predictions/predictions_split_0.csv\n",
      "Calculating cell_line-wise evaluation measures …\n",
      "Evaluating file: \"TOYv1/LCO/NaivePredictor/predictions/predictions_split_1.csv\" ...\n",
      "Parsing file: /Users/piversen/Projects/munich/drevalpy/results/my_first_run/TOYv1/LCO/NaivePredictor/predictions/predictions_split_1.csv\n",
      "Calculating cell_line-wise evaluation measures …\n",
      "Evaluating file: \"TOYv1/LCO/SimpleNeuralNetwork/predictions/predictions_split_0.csv\" ...\n",
      "Parsing file: /Users/piversen/Projects/munich/drevalpy/results/my_first_run/TOYv1/LCO/SimpleNeuralNetwork/predictions/predictions_split_0.csv\n",
      "Calculating cell_line-wise evaluation measures …\n",
      "Evaluating file: \"TOYv1/LCO/SimpleNeuralNetwork/predictions/predictions_split_1.csv\" ...\n",
      "Parsing file: /Users/piversen/Projects/munich/drevalpy/results/my_first_run/TOYv1/LCO/SimpleNeuralNetwork/predictions/predictions_split_1.csv\n",
      "Calculating cell_line-wise evaluation measures …\n",
      "Evaluating file: \"TOYv1/LCO/NaiveMeanEffectsPredictor/predictions/predictions_split_0.csv\" ...\n",
      "Parsing file: /Users/piversen/Projects/munich/drevalpy/results/my_first_run/TOYv1/LCO/NaiveMeanEffectsPredictor/predictions/predictions_split_0.csv\n",
      "Calculating cell_line-wise evaluation measures …\n",
      "Evaluating file: \"TOYv1/LCO/NaiveMeanEffectsPredictor/predictions/predictions_split_1.csv\" ...\n",
      "Parsing file: /Users/piversen/Projects/munich/drevalpy/results/my_first_run/TOYv1/LCO/NaiveMeanEffectsPredictor/predictions/predictions_split_1.csv\n",
      "Calculating cell_line-wise evaluation measures …\n",
      "Getting information about drugs and cell lines ...\n",
      "Reformatting the evaluation results ...\n",
      "Reformatting the evaluation results per cell line ...\n",
      "Reformatting the true vs. predicted values ...\n",
      "Generating report for LCO ...\n",
      "Drawing Violin plots ...\n",
      "Drawing Violin plots ...\n",
      "Drawing heatmaps ...\n"
     ]
    },
    {
     "name": "stderr",
     "output_type": "stream",
     "text": [
      "/Users/piversen/miniforge3/envs/drp2/lib/python3.13/site-packages/scikit_posthocs/_posthocs.py:735: RuntimeWarning: invalid value encountered in sqrt\n",
      "  tval = dif / np.sqrt(A) / np.sqrt(B)\n"
     ]
    },
    {
     "name": "stdout",
     "output_type": "stream",
     "text": [
      "Drawing heatmaps ...\n",
      "Drawing scatterplots ...\n",
      "Generating regression plots for cell_line_name, normalize=False, algorithm=ElasticNet...\n",
      "Generating regression plots for cell_line_name, normalize=True, algorithm=ElasticNet...\n",
      "Generating regression plots for cell_line_name, normalize=False, algorithm=SimpleNeuralNetwork...\n",
      "Generating regression plots for cell_line_name, normalize=True, algorithm=SimpleNeuralNetwork...\n"
     ]
    }
   ],
   "source": [
    "# you can generate your own evaluations from these predictions.\n",
    "# However, we recommend using our evaluation pipeline, which calculates meaningful metrics, creates figures and prepares an HTML report:\n",
    "from drevalpy.visualization.create_report import create_report\n",
    "create_report(run_id=\"my_first_run\", dataset=\"TOYv1\")\n",
    "\n",
    "# this will create a report in the results/my_first_run/index.html which you can open in your browser."
   ]
  },
  {
   "cell_type": "code",
   "execution_count": null,
   "metadata": {},
   "outputs": [
    {
     "name": "stdout",
     "output_type": "stream",
     "text": [
      "Creating cv splits at results/my_second_run/TOYv1/LPO/splits\n",
      "Running RandomForest\n",
      "- Full Test -\n",
      "################# FOLD 1/2 #################\n",
      "Best hyperparameters: {'criterion': 'squared_error', 'max_depth': 5, 'max_samples': 0.2, 'n_estimators': 100, 'n_jobs': -1}\n",
      "Training model on full train and validation set to predict test set\n",
      "Loading cell line features ...\n",
      "Loading drug features ...\n",
      "Number of cell lines in features: 88\n",
      "Number of drugs in features: 36\n",
      "Number of cell lines in train dataset: 90\n",
      "Number of drugs in train dataset: 36\n",
      "Reduced training dataset from 888 to 865, due to missing features\n",
      "Reduced prediction dataset from 888 to 864, due to missing features\n",
      "Training model ...\n",
      "Using temporary directory: /var/folders/62/nxnmxsmj1q15tr6b3ywgks88r_qppl/T/tmpvg4_vuve for model checkpoints\n",
      "################# FOLD 2/2 #################\n",
      "Best hyperparameters: {'criterion': 'squared_error', 'max_depth': 5, 'max_samples': 0.2, 'n_estimators': 100, 'n_jobs': -1}\n",
      "Training model on full train and validation set to predict test set\n",
      "Loading cell line features ...\n",
      "Loading drug features ...\n",
      "Number of cell lines in features: 88\n",
      "Number of drugs in features: 36\n",
      "Number of cell lines in train dataset: 89\n",
      "Number of drugs in train dataset: 36\n",
      "Reduced training dataset from 888 to 864, due to missing features\n",
      "Reduced prediction dataset from 888 to 865, due to missing features\n",
      "Training model ...\n",
      "Using temporary directory: /var/folders/62/nxnmxsmj1q15tr6b3ywgks88r_qppl/T/tmp3aw3vf_y for model checkpoints\n"
     ]
    }
   ],
   "source": [
    "# We prefer running this in the console:\n",
    "\n",
    "!drevalpy --models RandomForest --dataset_name TOYv1 --n_cv_splits 2 --test_mode LPO --run_id my_second_run --no_hyperparameter_tuning\n",
    "!drevalpy-report --run_id my_second_run --dataset TOYv1"
   ]
  },
  {
   "cell_type": "markdown",
   "metadata": {
    "id": "qWbDZA4X17Tj"
   },
   "source": [
    "## Using the drevalpy nextflow pipeline for highly optimized runs:"
   ]
  },
  {
   "cell_type": "markdown",
   "metadata": {
    "id": "7145560s6U-K"
   },
   "source": [
    "You should use DrEval with Nextflow on high-performance clusters or clouds. Nextflow supports various systems like Slurm, AWS, Azure, Kubernetes, or SGE. On a local machine, you can also use the pipeline but probably, the overhang from spawning processes is not worth it so you might prefer the standalone. Nextflow needs a java version >=17, so we need to install that, too."
   ]
  },
  {
   "cell_type": "code",
   "execution_count": null,
   "metadata": {},
   "outputs": [],
   "source": [
    "!pip install nextflow\n",
    "!apt-get install openjdk-17-jre-headless -qq > /dev/null\n",
    "!java --version"
   ]
  },
  {
   "cell_type": "code",
   "execution_count": null,
   "metadata": {},
   "outputs": [],
   "source": [
    "# we need a demo config for nextflow because on colab, we only have two CPUs available:\n",
    "with open('demo.config', 'w') as f:\n",
    "  f.write('process {\\n')\n",
    "  f.write('\\tresourceLimits = [\\n')\n",
    "  f.write('\\t\\tcpus: 2,\\n')\n",
    "  f.write('\\t\\tmemory: \"3.GB\",\\n')\n",
    "  f.write('\\t\\ttime: \"1.h\",\\n')\n",
    "  f.write('\\t]\\n')\n",
    "  f.write('}')"
   ]
  },
  {
   "cell_type": "markdown",
   "metadata": {
    "id": "wvc80Ahz6jj4"
   },
   "source": [
    "We run the pipeline with the TOYv1 dataset which was subset from CTRPv2. For the demo, we don't do hyperparameter tuning and we just do 2 CV splits. We want to inspect the final model which is why we train a final model on the full dataset. This should take about 10 minutes.\n",
    "If you were on a compute cluster, you could now decide if you want to run the pipeline inside conda, docker, singularity, ... via the -profile option (-profile singularity, e.g.). If you want the executor to be slurm/..., you can write this in your config. You can find plenty of config examples online, e.g., the one for our group: [daisybio](https://github.com/nf-core/configs/blob/master/conf/daisybio.config)\n"
   ]
  },
  {
   "cell_type": "code",
   "execution_count": null,
   "metadata": {},
   "outputs": [],
   "source": [
    "!nextflow run nf-core/drugresponseeval -r dev -c demo.config --dataset_name TOYv1 --models ElasticNet --baselines NaiveMeanEffectsPredictor --n_cv_splits 2 --no_hyperparameter_tuning --final_model_on_full_data"
   ]
  },
  {
   "cell_type": "markdown",
   "metadata": {
    "id": "hZ6AcGPDA-yo"
   },
   "source": [
    "The results will be stored in `results/my_run`. You can inspect pipeline information like runtime or memory in `results/pipeline_info`. In `my_run/report`, you can find the html report where you can look at your results interactively. The underlying data is in `my_run/evaluation_results.csv` or `true_vs_pred.csv`.\n",
    "\n",
    "We now inspect the final model saved in `results/my_run/LCO/ElasticNet/final_model` with `drevalpy` functions."
   ]
  },
  {
   "cell_type": "code",
   "execution_count": null,
   "metadata": {},
   "outputs": [],
   "source": [
    "from drevalpy.models import MODEL_FACTORY\n",
    "enet_class = MODEL_FACTORY[\"ElasticNet\"]\n",
    "enet = enet_class.load(\"results/my_run/LCO/ElasticNet/final_model\")\n",
    "enet"
   ]
  },
  {
   "cell_type": "markdown",
   "metadata": {
    "id": "WT4P7OBsDgWq"
   },
   "source": [
    "We now want to extract the top scoring features."
   ]
  },
  {
   "cell_type": "code",
   "execution_count": null,
   "metadata": {},
   "outputs": [],
   "source": [
    "# get the top features\n",
    "cell_line_input = enet.load_cell_line_features(data_path=\"data\", dataset_name=\"TOYv1\")\n",
    "drug_input = enet.load_drug_features(data_path=\"data\", dataset_name=\"TOYv1\")\n",
    "all_features = list(cell_line_input.meta_info['gene_expression'])+[f'fingerprint_{i}' for i in range(128)]"
   ]
  },
  {
   "cell_type": "code",
   "execution_count": null,
   "metadata": {},
   "outputs": [],
   "source": [
    "import pandas as pd\n",
    "df = pd.DataFrame({'feature': all_features, 'coef': enet.model.coef_})\n",
    "df.sort_values(by=\"coef\", ascending=False)"
   ]
  },
  {
   "cell_type": "code",
   "execution_count": null,
   "metadata": {},
   "outputs": [],
   "source": [
    "print(\"Top 50 features:\")\n",
    "list(df.sort_values(by=\"coef\", ascending=False)[\"feature\"][:50])"
   ]
  },
  {
   "cell_type": "markdown",
   "metadata": {
    "id": "yErEV4pCK6-B"
   },
   "source": [
    "The fingerprints are the most important features as the drug identity is responsible for the most variation between responses."
   ]
  },
  {
   "cell_type": "markdown",
   "metadata": {
    "id": "S4KlQx4d1iq0"
   },
   "source": [
    "## Standalone demo"
   ]
  },
  {
   "cell_type": "code",
   "execution_count": null,
   "metadata": {},
   "outputs": [],
   "source": [
    "from drevalpy.models import MODEL_FACTORY\n",
    "from drevalpy.datasets import AVAILABLE_DATASETS\n",
    "# First let us see which dataset and models are already implemented in drevalpy. You can test your own model on all the datasets and comapre your model to all.the implemented ones:\n",
    "print(f\"Models: {list(MODEL_FACTORY.keys())}\")\n",
    "print(f\"Dataset: {list(AVAILABLE_DATASETS.keys())}\")\n",
    "\n",
    "# let us first train amodel on the toy dataset. It will download the dataset for you.\n",
    "from drevalpy.experiment import drug_response_experiment\n",
    "\n",
    "naive_mean = MODEL_FACTORY[\"NaivePredictor\"]\n",
    "rf = MODEL_FACTORY[\"ElasticNet\"]\n",
    "simple_nn = MODEL_FACTORY[\"SimpleNeuralNetwork\"]\n",
    "\n",
    "toyv2 = AVAILABLE_DATASETS[\"TOYv2\"](path_data=\"data\", measure=\"LN_IC50_curvecurator\")\n",
    "\n",
    "drug_response_experiment(\n",
    "            models=[rf, simple_nn],\n",
    "            baselines=[naive_mean],\n",
    "            response_data=toyv2,\n",
    "            metric=\"RMSE\",\n",
    "            n_cv_splits=2,\n",
    "            test_mode=\"LCO\",\n",
    "            run_id=\"my_first_run\",\n",
    "            path_data=\"data\",\n",
    "            hyperparameter_tuning=False,\n",
    "        )"
   ]
  },
  {
   "cell_type": "code",
   "execution_count": null,
   "metadata": {},
   "outputs": [],
   "source": [
    "#run drevalpy in the console:"
   ]
  }
 ],
 "metadata": {
  "language_info": {
   "name": "python"
  }
 },
 "nbformat": 4,
 "nbformat_minor": 0
}
